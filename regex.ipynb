{
 "cells": [
  {
   "cell_type": "code",
   "execution_count": 1,
   "id": "23860769",
   "metadata": {},
   "outputs": [],
   "source": [
    "import re\n",
    "import nltk"
   ]
  },
  {
   "cell_type": "code",
   "execution_count": 2,
   "id": "97c583a5",
   "metadata": {},
   "outputs": [],
   "source": [
    "st='''08/2/1221\n",
    "08-2-1221\n",
    "08_2_1221\n",
    "08.2.1221\n",
    "xzcad assd as daa 4/32/1234 sadsd s asd as das 21/213 /1212\n",
    "08|2|122dss1 c xsd dsds xc\n",
    "dfvdd x fgd ds \n",
    "gsdfgsf dg sfg fg \n",
    " 23 3423ee e\n",
    "das4das   sadd/df 4/asd32/1234  fdg sda/4sda234/23/2sad123/3213/13 \n",
    "as das d \n",
    "212 231.213/12312/31231.23 /123/dsf sd11/23/2113fdd fds sd'''"
   ]
  },
  {
   "cell_type": "code",
   "execution_count": 3,
   "id": "41f3dc3c",
   "metadata": {},
   "outputs": [],
   "source": [
    "s=re.findall(r'\\d{1,2}?[\\/,\\-,_,\\.,\\|,]{1}\\d{1,2}?[\\/,\\-,_,\\.,\\|,]{1}?\\d{4}',st)"
   ]
  },
  {
   "cell_type": "code",
   "execution_count": 4,
   "id": "351dace6",
   "metadata": {},
   "outputs": [
    {
     "name": "stdout",
     "output_type": "stream",
     "text": [
      "['08/2/1221', '08-2-1221', '08_2_1221', '08.2.1221', '4/32/1234', '11/23/2113']\n"
     ]
    }
   ],
   "source": [
    "print(s)"
   ]
  },
  {
   "cell_type": "code",
   "execution_count": null,
   "id": "d15ca873",
   "metadata": {},
   "outputs": [],
   "source": []
  }
 ],
 "metadata": {
  "kernelspec": {
   "display_name": "Python 3 (ipykernel)",
   "language": "python",
   "name": "python3"
  },
  "language_info": {
   "codemirror_mode": {
    "name": "ipython",
    "version": 3
   },
   "file_extension": ".py",
   "mimetype": "text/x-python",
   "name": "python",
   "nbconvert_exporter": "python",
   "pygments_lexer": "ipython3",
   "version": "3.9.13"
  }
 },
 "nbformat": 4,
 "nbformat_minor": 5
}
